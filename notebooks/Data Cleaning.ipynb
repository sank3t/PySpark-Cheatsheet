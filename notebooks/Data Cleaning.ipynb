{
 "cells": [
  {
   "cell_type": "code",
   "execution_count": 1,
   "id": "55c4b45a",
   "metadata": {},
   "outputs": [],
   "source": [
    "from datetime import datetime\n",
    "\n",
    "import pandas as pd\n",
    "\n",
    "from pyspark.sql import SparkSession\n",
    "from pyspark.sql.types import *\n",
    "from pyspark.sql import functions as F"
   ]
  },
  {
   "cell_type": "code",
   "execution_count": 2,
   "id": "3e6f7c8e",
   "metadata": {},
   "outputs": [
    {
     "name": "stdout",
     "output_type": "stream",
     "text": [
      "T1.csv\r\n"
     ]
    }
   ],
   "source": [
    "! ls data/"
   ]
  },
  {
   "cell_type": "code",
   "execution_count": 3,
   "id": "5b9ac6f4",
   "metadata": {},
   "outputs": [
    {
     "name": "stderr",
     "output_type": "stream",
     "text": [
      "21/07/29 22:57:27 WARN Utils: Your hostname, sid-HP-240-G3-Notebook-PC resolves to a loopback address: 127.0.1.1; using 192.168.43.10 instead (on interface wlp9s0f0)\n",
      "21/07/29 22:57:27 WARN Utils: Set SPARK_LOCAL_IP if you need to bind to another address\n",
      "WARNING: An illegal reflective access operation has occurred\n",
      "WARNING: Illegal reflective access by org.apache.spark.unsafe.Platform (file:/home/sid/spark-3.1.2-bin-hadoop3.2/jars/spark-unsafe_2.12-3.1.2.jar) to constructor java.nio.DirectByteBuffer(long,int)\n",
      "WARNING: Please consider reporting this to the maintainers of org.apache.spark.unsafe.Platform\n",
      "WARNING: Use --illegal-access=warn to enable warnings of further illegal reflective access operations\n",
      "WARNING: All illegal access operations will be denied in a future release\n",
      "21/07/29 22:57:28 WARN NativeCodeLoader: Unable to load native-hadoop library for your platform... using builtin-java classes where applicable\n",
      "Using Spark's default log4j profile: org/apache/spark/log4j-defaults.properties\n",
      "Setting default log level to \"WARN\".\n",
      "To adjust logging level use sc.setLogLevel(newLevel). For SparkR, use setLogLevel(newLevel).\n"
     ]
    }
   ],
   "source": [
    "sc = SparkSession.builder.appName('Cheatsheet').getOrCreate()"
   ]
  },
  {
   "cell_type": "markdown",
   "id": "a70f881f",
   "metadata": {},
   "source": [
    "### Reading CSV"
   ]
  },
  {
   "cell_type": "code",
   "execution_count": 4,
   "id": "7ffd94ff",
   "metadata": {},
   "outputs": [
    {
     "name": "stderr",
     "output_type": "stream",
     "text": [
      "                                                                                \r"
     ]
    }
   ],
   "source": [
    "# Reading CSV in pandas\n",
    "df = pd.read_csv('data/T1.csv')\n",
    "\n",
    "# Reading CSV in PySpark\n",
    "spark_df = sc.read.options(header=True) \\\n",
    "                  .csv(\"data/T1.csv\")"
   ]
  },
  {
   "cell_type": "code",
   "execution_count": 5,
   "id": "b906fe1e",
   "metadata": {},
   "outputs": [
    {
     "data": {
      "text/html": [
       "<div>\n",
       "<style scoped>\n",
       "    .dataframe tbody tr th:only-of-type {\n",
       "        vertical-align: middle;\n",
       "    }\n",
       "\n",
       "    .dataframe tbody tr th {\n",
       "        vertical-align: top;\n",
       "    }\n",
       "\n",
       "    .dataframe thead th {\n",
       "        text-align: right;\n",
       "    }\n",
       "</style>\n",
       "<table border=\"1\" class=\"dataframe\">\n",
       "  <thead>\n",
       "    <tr style=\"text-align: right;\">\n",
       "      <th></th>\n",
       "      <th>Date/Time</th>\n",
       "      <th>LV ActivePower (kW)</th>\n",
       "      <th>Wind Speed (m/s)</th>\n",
       "      <th>Theoretical_Power_Curve (KWh)</th>\n",
       "      <th>Wind Direction (°)</th>\n",
       "    </tr>\n",
       "  </thead>\n",
       "  <tbody>\n",
       "    <tr>\n",
       "      <th>0</th>\n",
       "      <td>01 01 2018 00:00</td>\n",
       "      <td>380.047791</td>\n",
       "      <td>5.311336</td>\n",
       "      <td>416.328908</td>\n",
       "      <td>259.994904</td>\n",
       "    </tr>\n",
       "    <tr>\n",
       "      <th>1</th>\n",
       "      <td>01 01 2018 00:10</td>\n",
       "      <td>453.769196</td>\n",
       "      <td>5.672167</td>\n",
       "      <td>519.917511</td>\n",
       "      <td>268.641113</td>\n",
       "    </tr>\n",
       "    <tr>\n",
       "      <th>2</th>\n",
       "      <td>01 01 2018 00:20</td>\n",
       "      <td>306.376587</td>\n",
       "      <td>5.216037</td>\n",
       "      <td>390.900016</td>\n",
       "      <td>272.564789</td>\n",
       "    </tr>\n",
       "    <tr>\n",
       "      <th>3</th>\n",
       "      <td>01 01 2018 00:30</td>\n",
       "      <td>419.645905</td>\n",
       "      <td>5.659674</td>\n",
       "      <td>516.127569</td>\n",
       "      <td>271.258087</td>\n",
       "    </tr>\n",
       "    <tr>\n",
       "      <th>4</th>\n",
       "      <td>01 01 2018 00:40</td>\n",
       "      <td>380.650696</td>\n",
       "      <td>5.577941</td>\n",
       "      <td>491.702972</td>\n",
       "      <td>265.674286</td>\n",
       "    </tr>\n",
       "  </tbody>\n",
       "</table>\n",
       "</div>"
      ],
      "text/plain": [
       "          Date/Time  LV ActivePower (kW)  Wind Speed (m/s)  \\\n",
       "0  01 01 2018 00:00           380.047791          5.311336   \n",
       "1  01 01 2018 00:10           453.769196          5.672167   \n",
       "2  01 01 2018 00:20           306.376587          5.216037   \n",
       "3  01 01 2018 00:30           419.645905          5.659674   \n",
       "4  01 01 2018 00:40           380.650696          5.577941   \n",
       "\n",
       "   Theoretical_Power_Curve (KWh)  Wind Direction (°)  \n",
       "0                     416.328908          259.994904  \n",
       "1                     519.917511          268.641113  \n",
       "2                     390.900016          272.564789  \n",
       "3                     516.127569          271.258087  \n",
       "4                     491.702972          265.674286  "
      ]
     },
     "execution_count": 5,
     "metadata": {},
     "output_type": "execute_result"
    }
   ],
   "source": [
    "df.head()"
   ]
  },
  {
   "cell_type": "code",
   "execution_count": 6,
   "id": "2fca8e94",
   "metadata": {},
   "outputs": [
    {
     "name": "stdout",
     "output_type": "stream",
     "text": [
      "+----------------+-------------------+----------------+-----------------------------+------------------+\n",
      "|       Date/Time|LV ActivePower (kW)|Wind Speed (m/s)|Theoretical_Power_Curve (KWh)|Wind Direction (°)|\n",
      "+----------------+-------------------+----------------+-----------------------------+------------------+\n",
      "|01 01 2018 00:00|   380.047790527343|5.31133604049682|             416.328907824861|  259.994903564453|\n",
      "|01 01 2018 00:10|    453.76919555664|5.67216682434082|             519.917511061494|   268.64111328125|\n",
      "|01 01 2018 00:20|   306.376586914062|5.21603679656982|             390.900015810951|  272.564788818359|\n",
      "|01 01 2018 00:30|   419.645904541015|5.65967416763305|             516.127568975674|  271.258087158203|\n",
      "|01 01 2018 00:40|   380.650695800781|5.57794094085693|             491.702971953588|  265.674285888671|\n",
      "+----------------+-------------------+----------------+-----------------------------+------------------+\n",
      "only showing top 5 rows\n",
      "\n"
     ]
    }
   ],
   "source": [
    "spark_df.show(5)"
   ]
  },
  {
   "cell_type": "code",
   "execution_count": 7,
   "id": "d6669cca",
   "metadata": {},
   "outputs": [
    {
     "name": "stdout",
     "output_type": "stream",
     "text": [
      "<class 'pandas.core.frame.DataFrame'>\n",
      "RangeIndex: 50530 entries, 0 to 50529\n",
      "Data columns (total 5 columns):\n",
      " #   Column                         Non-Null Count  Dtype  \n",
      "---  ------                         --------------  -----  \n",
      " 0   Date/Time                      50530 non-null  object \n",
      " 1   LV ActivePower (kW)            50530 non-null  float64\n",
      " 2   Wind Speed (m/s)               50530 non-null  float64\n",
      " 3   Theoretical_Power_Curve (KWh)  50530 non-null  float64\n",
      " 4   Wind Direction (°)             50530 non-null  float64\n",
      "dtypes: float64(4), object(1)\n",
      "memory usage: 1.9+ MB\n"
     ]
    }
   ],
   "source": [
    "df.info()"
   ]
  },
  {
   "cell_type": "code",
   "execution_count": 8,
   "id": "9f2327cf",
   "metadata": {},
   "outputs": [
    {
     "name": "stdout",
     "output_type": "stream",
     "text": [
      "root\n",
      " |-- Date/Time: string (nullable = true)\n",
      " |-- LV ActivePower (kW): string (nullable = true)\n",
      " |-- Wind Speed (m/s): string (nullable = true)\n",
      " |-- Theoretical_Power_Curve (KWh): string (nullable = true)\n",
      " |-- Wind Direction (°): string (nullable = true)\n",
      "\n"
     ]
    }
   ],
   "source": [
    "spark_df.printSchema()"
   ]
  },
  {
   "cell_type": "markdown",
   "id": "c1cd1c5f",
   "metadata": {},
   "source": [
    "### Nerdy Tip\n",
    "\n",
    "* **pandas** uses auto infer mechanism by default while in **PySpark** the `inferSchema` is set to `False` by default.\n",
    "\n",
    "\n",
    "* While reading the CSV in pandas use `parse_dates` parameter for converting the column type to `datetime`."
   ]
  },
  {
   "cell_type": "markdown",
   "id": "718b7e84",
   "metadata": {},
   "source": [
    "## Infer dtypes while reading CSV"
   ]
  },
  {
   "cell_type": "markdown",
   "id": "52fe9caf",
   "metadata": {},
   "source": [
    "### pandas"
   ]
  },
  {
   "cell_type": "code",
   "execution_count": 9,
   "id": "93657f64",
   "metadata": {},
   "outputs": [
    {
     "name": "stdout",
     "output_type": "stream",
     "text": [
      "<class 'pandas.core.frame.DataFrame'>\n",
      "RangeIndex: 50530 entries, 0 to 50529\n",
      "Data columns (total 5 columns):\n",
      " #   Column                         Non-Null Count  Dtype         \n",
      "---  ------                         --------------  -----         \n",
      " 0   Date/Time                      50530 non-null  datetime64[ns]\n",
      " 1   LV ActivePower (kW)            50530 non-null  float64       \n",
      " 2   Wind Speed (m/s)               50530 non-null  float64       \n",
      " 3   Theoretical_Power_Curve (KWh)  50530 non-null  float64       \n",
      " 4   Wind Direction (°)             50530 non-null  float64       \n",
      "dtypes: datetime64[ns](1), float64(4)\n",
      "memory usage: 1.9 MB\n"
     ]
    }
   ],
   "source": [
    "custom_date_parser = lambda x: datetime.strptime(x, \"%d %m %Y %H:%M\")\n",
    "\n",
    "df = pd.read_csv('data/T1.csv',\n",
    "                 parse_dates=['Date/Time'],\n",
    "                 date_parser=custom_date_parser\n",
    "                )\n",
    "df.info()"
   ]
  },
  {
   "cell_type": "markdown",
   "id": "7c70999d",
   "metadata": {},
   "source": [
    "### PySpark"
   ]
  },
  {
   "cell_type": "code",
   "execution_count": 10,
   "id": "72b5fcf6",
   "metadata": {},
   "outputs": [
    {
     "name": "stderr",
     "output_type": "stream",
     "text": [
      "\r",
      "[Stage 3:>                                                          (0 + 1) / 1]\r"
     ]
    },
    {
     "name": "stdout",
     "output_type": "stream",
     "text": [
      "root\n",
      " |-- Date/Time: timestamp (nullable = true)\n",
      " |-- LV ActivePower (kW): double (nullable = true)\n",
      " |-- Wind Speed (m/s): double (nullable = true)\n",
      " |-- Theoretical_Power_Curve (KWh): double (nullable = true)\n",
      " |-- Wind Direction (°): double (nullable = true)\n",
      "\n"
     ]
    },
    {
     "name": "stderr",
     "output_type": "stream",
     "text": [
      "\r",
      "                                                                                \r"
     ]
    }
   ],
   "source": [
    "spark_df = sc.read.options(\n",
    "    header=True,\n",
    "    inferSchema=True,\n",
    "    timestampFormat=\"dd MM y HH:mm\"\n",
    ").csv(\"data/T1.csv\")\n",
    "\n",
    "spark_df.printSchema()"
   ]
  },
  {
   "cell_type": "code",
   "execution_count": 11,
   "id": "527c1b22",
   "metadata": {},
   "outputs": [
    {
     "data": {
      "text/html": [
       "<div>\n",
       "<style scoped>\n",
       "    .dataframe tbody tr th:only-of-type {\n",
       "        vertical-align: middle;\n",
       "    }\n",
       "\n",
       "    .dataframe tbody tr th {\n",
       "        vertical-align: top;\n",
       "    }\n",
       "\n",
       "    .dataframe thead th {\n",
       "        text-align: right;\n",
       "    }\n",
       "</style>\n",
       "<table border=\"1\" class=\"dataframe\">\n",
       "  <thead>\n",
       "    <tr style=\"text-align: right;\">\n",
       "      <th></th>\n",
       "      <th>Date/Time</th>\n",
       "      <th>LV ActivePower (kW)</th>\n",
       "      <th>Wind Speed (m/s)</th>\n",
       "      <th>Theoretical_Power_Curve (KWh)</th>\n",
       "      <th>Wind Direction (°)</th>\n",
       "    </tr>\n",
       "  </thead>\n",
       "  <tbody>\n",
       "    <tr>\n",
       "      <th>0</th>\n",
       "      <td>2018-01-01 00:00:00</td>\n",
       "      <td>380.047791</td>\n",
       "      <td>5.311336</td>\n",
       "      <td>416.328908</td>\n",
       "      <td>259.994904</td>\n",
       "    </tr>\n",
       "    <tr>\n",
       "      <th>1</th>\n",
       "      <td>2018-01-01 00:10:00</td>\n",
       "      <td>453.769196</td>\n",
       "      <td>5.672167</td>\n",
       "      <td>519.917511</td>\n",
       "      <td>268.641113</td>\n",
       "    </tr>\n",
       "    <tr>\n",
       "      <th>2</th>\n",
       "      <td>2018-01-01 00:20:00</td>\n",
       "      <td>306.376587</td>\n",
       "      <td>5.216037</td>\n",
       "      <td>390.900016</td>\n",
       "      <td>272.564789</td>\n",
       "    </tr>\n",
       "    <tr>\n",
       "      <th>3</th>\n",
       "      <td>2018-01-01 00:30:00</td>\n",
       "      <td>419.645905</td>\n",
       "      <td>5.659674</td>\n",
       "      <td>516.127569</td>\n",
       "      <td>271.258087</td>\n",
       "    </tr>\n",
       "    <tr>\n",
       "      <th>4</th>\n",
       "      <td>2018-01-01 00:40:00</td>\n",
       "      <td>380.650696</td>\n",
       "      <td>5.577941</td>\n",
       "      <td>491.702972</td>\n",
       "      <td>265.674286</td>\n",
       "    </tr>\n",
       "  </tbody>\n",
       "</table>\n",
       "</div>"
      ],
      "text/plain": [
       "            Date/Time  LV ActivePower (kW)  Wind Speed (m/s)  \\\n",
       "0 2018-01-01 00:00:00           380.047791          5.311336   \n",
       "1 2018-01-01 00:10:00           453.769196          5.672167   \n",
       "2 2018-01-01 00:20:00           306.376587          5.216037   \n",
       "3 2018-01-01 00:30:00           419.645905          5.659674   \n",
       "4 2018-01-01 00:40:00           380.650696          5.577941   \n",
       "\n",
       "   Theoretical_Power_Curve (KWh)  Wind Direction (°)  \n",
       "0                     416.328908          259.994904  \n",
       "1                     519.917511          268.641113  \n",
       "2                     390.900016          272.564789  \n",
       "3                     516.127569          271.258087  \n",
       "4                     491.702972          265.674286  "
      ]
     },
     "execution_count": 11,
     "metadata": {},
     "output_type": "execute_result"
    }
   ],
   "source": [
    "df.head()"
   ]
  },
  {
   "cell_type": "code",
   "execution_count": 12,
   "id": "20916df4",
   "metadata": {},
   "outputs": [
    {
     "name": "stdout",
     "output_type": "stream",
     "text": [
      "+-------------------+-------------------+----------------+-----------------------------+------------------+\n",
      "|          Date/Time|LV ActivePower (kW)|Wind Speed (m/s)|Theoretical_Power_Curve (KWh)|Wind Direction (°)|\n",
      "+-------------------+-------------------+----------------+-----------------------------+------------------+\n",
      "|2018-01-01 00:00:00|   380.047790527343|5.31133604049682|             416.328907824861|  259.994903564453|\n",
      "|2018-01-01 00:10:00|    453.76919555664|5.67216682434082|             519.917511061494|   268.64111328125|\n",
      "|2018-01-01 00:20:00|   306.376586914062|5.21603679656982|             390.900015810951|  272.564788818359|\n",
      "|2018-01-01 00:30:00|   419.645904541015|5.65967416763305|             516.127568975674|  271.258087158203|\n",
      "|2018-01-01 00:40:00|   380.650695800781|5.57794094085693|             491.702971953588|  265.674285888671|\n",
      "+-------------------+-------------------+----------------+-----------------------------+------------------+\n",
      "only showing top 5 rows\n",
      "\n"
     ]
    }
   ],
   "source": [
    "spark_df.show(5)"
   ]
  },
  {
   "cell_type": "markdown",
   "id": "15f2eb07",
   "metadata": {},
   "source": [
    "## Renaming columns"
   ]
  },
  {
   "cell_type": "code",
   "execution_count": 13,
   "id": "8f516ecc",
   "metadata": {},
   "outputs": [
    {
     "name": "stderr",
     "output_type": "stream",
     "text": [
      "                                                                                \r"
     ]
    }
   ],
   "source": [
    "custom_date_parser = lambda x: datetime.strptime(x, \"%d %m %Y %H:%M\")\n",
    "\n",
    "df = pd.read_csv('data/T1.csv',\n",
    "                 parse_dates=['Date/Time'],\n",
    "                 date_parser=custom_date_parser\n",
    "                )\n",
    "\n",
    "spark_df = sc.read.options(\n",
    "    header=True, \n",
    "    inferSchema=True,\n",
    "    timestampFormat=\"dd MM y HH:mm\"\n",
    ").csv(\"data/T1.csv\")"
   ]
  },
  {
   "cell_type": "markdown",
   "id": "488fabeb",
   "metadata": {},
   "source": [
    "### pandas"
   ]
  },
  {
   "cell_type": "code",
   "execution_count": 14,
   "id": "293ed0c1",
   "metadata": {},
   "outputs": [
    {
     "data": {
      "text/html": [
       "<div>\n",
       "<style scoped>\n",
       "    .dataframe tbody tr th:only-of-type {\n",
       "        vertical-align: middle;\n",
       "    }\n",
       "\n",
       "    .dataframe tbody tr th {\n",
       "        vertical-align: top;\n",
       "    }\n",
       "\n",
       "    .dataframe thead th {\n",
       "        text-align: right;\n",
       "    }\n",
       "</style>\n",
       "<table border=\"1\" class=\"dataframe\">\n",
       "  <thead>\n",
       "    <tr style=\"text-align: right;\">\n",
       "      <th></th>\n",
       "      <th>timestamp</th>\n",
       "      <th>active_pwr</th>\n",
       "      <th>wind_speed</th>\n",
       "      <th>theoretical_pwr</th>\n",
       "      <th>wind_dir</th>\n",
       "    </tr>\n",
       "  </thead>\n",
       "  <tbody>\n",
       "    <tr>\n",
       "      <th>0</th>\n",
       "      <td>2018-01-01 00:00:00</td>\n",
       "      <td>380.047791</td>\n",
       "      <td>5.311336</td>\n",
       "      <td>416.328908</td>\n",
       "      <td>259.994904</td>\n",
       "    </tr>\n",
       "    <tr>\n",
       "      <th>1</th>\n",
       "      <td>2018-01-01 00:10:00</td>\n",
       "      <td>453.769196</td>\n",
       "      <td>5.672167</td>\n",
       "      <td>519.917511</td>\n",
       "      <td>268.641113</td>\n",
       "    </tr>\n",
       "    <tr>\n",
       "      <th>2</th>\n",
       "      <td>2018-01-01 00:20:00</td>\n",
       "      <td>306.376587</td>\n",
       "      <td>5.216037</td>\n",
       "      <td>390.900016</td>\n",
       "      <td>272.564789</td>\n",
       "    </tr>\n",
       "    <tr>\n",
       "      <th>3</th>\n",
       "      <td>2018-01-01 00:30:00</td>\n",
       "      <td>419.645905</td>\n",
       "      <td>5.659674</td>\n",
       "      <td>516.127569</td>\n",
       "      <td>271.258087</td>\n",
       "    </tr>\n",
       "    <tr>\n",
       "      <th>4</th>\n",
       "      <td>2018-01-01 00:40:00</td>\n",
       "      <td>380.650696</td>\n",
       "      <td>5.577941</td>\n",
       "      <td>491.702972</td>\n",
       "      <td>265.674286</td>\n",
       "    </tr>\n",
       "  </tbody>\n",
       "</table>\n",
       "</div>"
      ],
      "text/plain": [
       "            timestamp  active_pwr  wind_speed  theoretical_pwr    wind_dir\n",
       "0 2018-01-01 00:00:00  380.047791    5.311336       416.328908  259.994904\n",
       "1 2018-01-01 00:10:00  453.769196    5.672167       519.917511  268.641113\n",
       "2 2018-01-01 00:20:00  306.376587    5.216037       390.900016  272.564789\n",
       "3 2018-01-01 00:30:00  419.645905    5.659674       516.127569  271.258087\n",
       "4 2018-01-01 00:40:00  380.650696    5.577941       491.702972  265.674286"
      ]
     },
     "execution_count": 14,
     "metadata": {},
     "output_type": "execute_result"
    }
   ],
   "source": [
    "df = df.rename(columns={\n",
    "    \"Date/Time\": \"timestamp\",\n",
    "    \"LV ActivePower (kW)\": \"active_pwr\",\n",
    "    \"Wind Speed (m/s)\": \"wind_speed\",\n",
    "    \"Theoretical_Power_Curve (KWh)\": \"theoretical_pwr\",\n",
    "    \"Wind Direction (°)\": \"wind_dir\"\n",
    "})\n",
    "\n",
    "df.head()"
   ]
  },
  {
   "cell_type": "markdown",
   "id": "85b237be",
   "metadata": {},
   "source": [
    "### PySpark"
   ]
  },
  {
   "cell_type": "code",
   "execution_count": 15,
   "id": "df10cb51",
   "metadata": {},
   "outputs": [
    {
     "name": "stdout",
     "output_type": "stream",
     "text": [
      "+-------------------+----------------+----------------+----------------+----------------+\n",
      "|          timestamp|      active_pwr|      wind_speed| theoretical_pwr|        wind_dir|\n",
      "+-------------------+----------------+----------------+----------------+----------------+\n",
      "|2018-01-01 00:00:00|380.047790527343|5.31133604049682|416.328907824861|259.994903564453|\n",
      "|2018-01-01 00:10:00| 453.76919555664|5.67216682434082|519.917511061494| 268.64111328125|\n",
      "|2018-01-01 00:20:00|306.376586914062|5.21603679656982|390.900015810951|272.564788818359|\n",
      "|2018-01-01 00:30:00|419.645904541015|5.65967416763305|516.127568975674|271.258087158203|\n",
      "|2018-01-01 00:40:00|380.650695800781|5.57794094085693|491.702971953588|265.674285888671|\n",
      "+-------------------+----------------+----------------+----------------+----------------+\n",
      "only showing top 5 rows\n",
      "\n"
     ]
    }
   ],
   "source": [
    "spark_df = spark_df.withColumnRenamed(\"Date/Time\", \"timestamp\") \\\n",
    ".withColumnRenamed(\"LV ActivePower (kW)\", \"active_pwr\") \\\n",
    ".withColumnRenamed(\"Wind Speed (m/s)\", \"wind_speed\") \\\n",
    ".withColumnRenamed(\"Theoretical_Power_Curve (KWh)\", \"theoretical_pwr\") \\\n",
    ".withColumnRenamed(\"Wind Direction (°)\", \"wind_dir\")\n",
    "\n",
    "spark_df.show(5)"
   ]
  },
  {
   "cell_type": "markdown",
   "id": "3993aaf2",
   "metadata": {},
   "source": [
    "## Changing data type of columns"
   ]
  },
  {
   "cell_type": "code",
   "execution_count": 16,
   "id": "a82f3b18",
   "metadata": {},
   "outputs": [],
   "source": [
    "custom_date_parser = lambda x: datetime.strptime(x, \"%d %m %Y %H:%M\")\n",
    "\n",
    "df = pd.read_csv('data/T1.csv',\n",
    "                 parse_dates=['Date/Time'],\n",
    "                 date_parser=custom_date_parser\n",
    "                )\n",
    "\n",
    "spark_df = sc.read.options(\n",
    "    header=True,\n",
    "    inferSchema=True,\n",
    "    timestampFormat=\"dd MM y HH:mm\"\n",
    ").csv(\"data/T1.csv\")"
   ]
  },
  {
   "cell_type": "code",
   "execution_count": 17,
   "id": "9e3dca8f",
   "metadata": {},
   "outputs": [
    {
     "name": "stdout",
     "output_type": "stream",
     "text": [
      "<class 'pandas.core.frame.DataFrame'>\n",
      "RangeIndex: 50530 entries, 0 to 50529\n",
      "Data columns (total 5 columns):\n",
      " #   Column                         Non-Null Count  Dtype         \n",
      "---  ------                         --------------  -----         \n",
      " 0   Date/Time                      50530 non-null  datetime64[ns]\n",
      " 1   LV ActivePower (kW)            50530 non-null  float64       \n",
      " 2   Wind Speed (m/s)               50530 non-null  float64       \n",
      " 3   Theoretical_Power_Curve (KWh)  50530 non-null  float64       \n",
      " 4   Wind Direction (°)             50530 non-null  float64       \n",
      "dtypes: datetime64[ns](1), float64(4)\n",
      "memory usage: 1.9 MB\n"
     ]
    }
   ],
   "source": [
    "df.info()"
   ]
  },
  {
   "cell_type": "code",
   "execution_count": 18,
   "id": "e71a0c6a",
   "metadata": {},
   "outputs": [
    {
     "name": "stdout",
     "output_type": "stream",
     "text": [
      "root\n",
      " |-- Date/Time: timestamp (nullable = true)\n",
      " |-- LV ActivePower (kW): double (nullable = true)\n",
      " |-- Wind Speed (m/s): double (nullable = true)\n",
      " |-- Theoretical_Power_Curve (KWh): double (nullable = true)\n",
      " |-- Wind Direction (°): double (nullable = true)\n",
      "\n"
     ]
    }
   ],
   "source": [
    "spark_df.printSchema()"
   ]
  },
  {
   "cell_type": "code",
   "execution_count": 19,
   "id": "7085f7d7",
   "metadata": {},
   "outputs": [],
   "source": [
    "df['LV ActivePower (kW)'] = df['LV ActivePower (kW)'].astype(int)\n",
    "\n",
    "spark_df = spark_df.withColumn(\"LV ActivePower (kW)\", F.col(\"LV ActivePower (kW)\").cast(IntegerType()))"
   ]
  },
  {
   "cell_type": "code",
   "execution_count": 20,
   "id": "410814c6",
   "metadata": {},
   "outputs": [
    {
     "name": "stdout",
     "output_type": "stream",
     "text": [
      "<class 'pandas.core.frame.DataFrame'>\n",
      "RangeIndex: 50530 entries, 0 to 50529\n",
      "Data columns (total 5 columns):\n",
      " #   Column                         Non-Null Count  Dtype         \n",
      "---  ------                         --------------  -----         \n",
      " 0   Date/Time                      50530 non-null  datetime64[ns]\n",
      " 1   LV ActivePower (kW)            50530 non-null  int64         \n",
      " 2   Wind Speed (m/s)               50530 non-null  float64       \n",
      " 3   Theoretical_Power_Curve (KWh)  50530 non-null  float64       \n",
      " 4   Wind Direction (°)             50530 non-null  float64       \n",
      "dtypes: datetime64[ns](1), float64(3), int64(1)\n",
      "memory usage: 1.9 MB\n"
     ]
    }
   ],
   "source": [
    "df.info()"
   ]
  },
  {
   "cell_type": "code",
   "execution_count": 21,
   "id": "464519e6",
   "metadata": {},
   "outputs": [
    {
     "name": "stdout",
     "output_type": "stream",
     "text": [
      "root\n",
      " |-- Date/Time: timestamp (nullable = true)\n",
      " |-- LV ActivePower (kW): integer (nullable = true)\n",
      " |-- Wind Speed (m/s): double (nullable = true)\n",
      " |-- Theoretical_Power_Curve (KWh): double (nullable = true)\n",
      " |-- Wind Direction (°): double (nullable = true)\n",
      "\n"
     ]
    }
   ],
   "source": [
    "spark_df.printSchema()"
   ]
  },
  {
   "cell_type": "code",
   "execution_count": 22,
   "id": "74dc0356",
   "metadata": {},
   "outputs": [
    {
     "data": {
      "text/html": [
       "<div>\n",
       "<style scoped>\n",
       "    .dataframe tbody tr th:only-of-type {\n",
       "        vertical-align: middle;\n",
       "    }\n",
       "\n",
       "    .dataframe tbody tr th {\n",
       "        vertical-align: top;\n",
       "    }\n",
       "\n",
       "    .dataframe thead th {\n",
       "        text-align: right;\n",
       "    }\n",
       "</style>\n",
       "<table border=\"1\" class=\"dataframe\">\n",
       "  <thead>\n",
       "    <tr style=\"text-align: right;\">\n",
       "      <th></th>\n",
       "      <th>Date/Time</th>\n",
       "      <th>LV ActivePower (kW)</th>\n",
       "      <th>Wind Speed (m/s)</th>\n",
       "      <th>Theoretical_Power_Curve (KWh)</th>\n",
       "      <th>Wind Direction (°)</th>\n",
       "    </tr>\n",
       "  </thead>\n",
       "  <tbody>\n",
       "    <tr>\n",
       "      <th>0</th>\n",
       "      <td>2018-01-01 00:00:00</td>\n",
       "      <td>380</td>\n",
       "      <td>5.311336</td>\n",
       "      <td>416.328908</td>\n",
       "      <td>259.994904</td>\n",
       "    </tr>\n",
       "    <tr>\n",
       "      <th>1</th>\n",
       "      <td>2018-01-01 00:10:00</td>\n",
       "      <td>453</td>\n",
       "      <td>5.672167</td>\n",
       "      <td>519.917511</td>\n",
       "      <td>268.641113</td>\n",
       "    </tr>\n",
       "    <tr>\n",
       "      <th>2</th>\n",
       "      <td>2018-01-01 00:20:00</td>\n",
       "      <td>306</td>\n",
       "      <td>5.216037</td>\n",
       "      <td>390.900016</td>\n",
       "      <td>272.564789</td>\n",
       "    </tr>\n",
       "    <tr>\n",
       "      <th>3</th>\n",
       "      <td>2018-01-01 00:30:00</td>\n",
       "      <td>419</td>\n",
       "      <td>5.659674</td>\n",
       "      <td>516.127569</td>\n",
       "      <td>271.258087</td>\n",
       "    </tr>\n",
       "    <tr>\n",
       "      <th>4</th>\n",
       "      <td>2018-01-01 00:40:00</td>\n",
       "      <td>380</td>\n",
       "      <td>5.577941</td>\n",
       "      <td>491.702972</td>\n",
       "      <td>265.674286</td>\n",
       "    </tr>\n",
       "  </tbody>\n",
       "</table>\n",
       "</div>"
      ],
      "text/plain": [
       "            Date/Time  LV ActivePower (kW)  Wind Speed (m/s)  \\\n",
       "0 2018-01-01 00:00:00                  380          5.311336   \n",
       "1 2018-01-01 00:10:00                  453          5.672167   \n",
       "2 2018-01-01 00:20:00                  306          5.216037   \n",
       "3 2018-01-01 00:30:00                  419          5.659674   \n",
       "4 2018-01-01 00:40:00                  380          5.577941   \n",
       "\n",
       "   Theoretical_Power_Curve (KWh)  Wind Direction (°)  \n",
       "0                     416.328908          259.994904  \n",
       "1                     519.917511          268.641113  \n",
       "2                     390.900016          272.564789  \n",
       "3                     516.127569          271.258087  \n",
       "4                     491.702972          265.674286  "
      ]
     },
     "execution_count": 22,
     "metadata": {},
     "output_type": "execute_result"
    }
   ],
   "source": [
    "df.head()"
   ]
  },
  {
   "cell_type": "code",
   "execution_count": 23,
   "id": "4fdcaaf1",
   "metadata": {},
   "outputs": [
    {
     "name": "stdout",
     "output_type": "stream",
     "text": [
      "+-------------------+-------------------+----------------+-----------------------------+------------------+\n",
      "|          Date/Time|LV ActivePower (kW)|Wind Speed (m/s)|Theoretical_Power_Curve (KWh)|Wind Direction (°)|\n",
      "+-------------------+-------------------+----------------+-----------------------------+------------------+\n",
      "|2018-01-01 00:00:00|                380|5.31133604049682|             416.328907824861|  259.994903564453|\n",
      "|2018-01-01 00:10:00|                453|5.67216682434082|             519.917511061494|   268.64111328125|\n",
      "|2018-01-01 00:20:00|                306|5.21603679656982|             390.900015810951|  272.564788818359|\n",
      "|2018-01-01 00:30:00|                419|5.65967416763305|             516.127568975674|  271.258087158203|\n",
      "|2018-01-01 00:40:00|                380|5.57794094085693|             491.702971953588|  265.674285888671|\n",
      "+-------------------+-------------------+----------------+-----------------------------+------------------+\n",
      "only showing top 5 rows\n",
      "\n"
     ]
    }
   ],
   "source": [
    "spark_df.show(5)"
   ]
  }
 ],
 "metadata": {
  "kernelspec": {
   "display_name": "Python 3 (ipykernel)",
   "language": "python",
   "name": "python3"
  },
  "language_info": {
   "codemirror_mode": {
    "name": "ipython",
    "version": 3
   },
   "file_extension": ".py",
   "mimetype": "text/x-python",
   "name": "python",
   "nbconvert_exporter": "python",
   "pygments_lexer": "ipython3",
   "version": "3.9.5"
  }
 },
 "nbformat": 4,
 "nbformat_minor": 5
}
