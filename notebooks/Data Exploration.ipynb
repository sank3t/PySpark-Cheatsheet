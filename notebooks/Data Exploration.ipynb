{
 "cells": [
  {
   "cell_type": "code",
   "execution_count": 1,
   "id": "9f919e1a",
   "metadata": {},
   "outputs": [],
   "source": [
    "from datetime import datetime\n",
    "import pandas as pd\n",
    "\n",
    "from pyspark.sql import SparkSession\n",
    "from pyspark.sql import functions as F"
   ]
  },
  {
   "cell_type": "code",
   "execution_count": 2,
   "id": "5b0438e0",
   "metadata": {},
   "outputs": [
    {
     "name": "stdout",
     "output_type": "stream",
     "text": [
      "T1.csv\r\n"
     ]
    }
   ],
   "source": [
    "! ls ../data/"
   ]
  },
  {
   "cell_type": "code",
   "execution_count": 3,
   "id": "af0e7d64",
   "metadata": {},
   "outputs": [
    {
     "name": "stderr",
     "output_type": "stream",
     "text": [
      "21/07/29 23:59:55 WARN Utils: Your hostname, sid-HP-240-G3-Notebook-PC resolves to a loopback address: 127.0.1.1; using 192.168.43.10 instead (on interface wlp9s0f0)\n",
      "21/07/29 23:59:55 WARN Utils: Set SPARK_LOCAL_IP if you need to bind to another address\n",
      "WARNING: An illegal reflective access operation has occurred\n",
      "WARNING: Illegal reflective access by org.apache.spark.unsafe.Platform (file:/home/sid/spark-3.1.2-bin-hadoop3.2/jars/spark-unsafe_2.12-3.1.2.jar) to constructor java.nio.DirectByteBuffer(long,int)\n",
      "WARNING: Please consider reporting this to the maintainers of org.apache.spark.unsafe.Platform\n",
      "WARNING: Use --illegal-access=warn to enable warnings of further illegal reflective access operations\n",
      "WARNING: All illegal access operations will be denied in a future release\n",
      "21/07/29 23:59:56 WARN NativeCodeLoader: Unable to load native-hadoop library for your platform... using builtin-java classes where applicable\n",
      "Using Spark's default log4j profile: org/apache/spark/log4j-defaults.properties\n",
      "Setting default log level to \"WARN\".\n",
      "To adjust logging level use sc.setLogLevel(newLevel). For SparkR, use setLogLevel(newLevel).\n"
     ]
    }
   ],
   "source": [
    "sc = SparkSession.builder.appName('Cheatsheet').getOrCreate()"
   ]
  },
  {
   "cell_type": "code",
   "execution_count": 4,
   "id": "31fbea65",
   "metadata": {},
   "outputs": [
    {
     "name": "stderr",
     "output_type": "stream",
     "text": [
      "                                                                                \r"
     ]
    }
   ],
   "source": [
    "custom_date_parser = lambda x: datetime.strptime(x, \"%d %m %Y %H:%M\")\n",
    "\n",
    "# Reading CSV in pandas\n",
    "df = pd.read_csv(\"../data/T1.csv\",\n",
    "                 parse_dates=[\"Date/Time\"],\n",
    "                 date_parser=custom_date_parser\n",
    "                )\n",
    "\n",
    "# Reading CSV in PySpark\n",
    "spark_df = sc.read.options(\n",
    "    header=True,\n",
    "    inferSchema=True,\n",
    "    timestampFormat=\"dd MM y HH:mm\"\n",
    ").csv(\"../data/T1.csv\")"
   ]
  },
  {
   "cell_type": "code",
   "execution_count": 5,
   "id": "00ea926d",
   "metadata": {},
   "outputs": [
    {
     "data": {
      "text/html": [
       "<div>\n",
       "<style scoped>\n",
       "    .dataframe tbody tr th:only-of-type {\n",
       "        vertical-align: middle;\n",
       "    }\n",
       "\n",
       "    .dataframe tbody tr th {\n",
       "        vertical-align: top;\n",
       "    }\n",
       "\n",
       "    .dataframe thead th {\n",
       "        text-align: right;\n",
       "    }\n",
       "</style>\n",
       "<table border=\"1\" class=\"dataframe\">\n",
       "  <thead>\n",
       "    <tr style=\"text-align: right;\">\n",
       "      <th></th>\n",
       "      <th>Date/Time</th>\n",
       "      <th>LV ActivePower (kW)</th>\n",
       "      <th>Wind Speed (m/s)</th>\n",
       "      <th>Theoretical_Power_Curve (KWh)</th>\n",
       "      <th>Wind Direction (°)</th>\n",
       "    </tr>\n",
       "  </thead>\n",
       "  <tbody>\n",
       "    <tr>\n",
       "      <th>0</th>\n",
       "      <td>2018-01-01 00:00:00</td>\n",
       "      <td>380.047791</td>\n",
       "      <td>5.311336</td>\n",
       "      <td>416.328908</td>\n",
       "      <td>259.994904</td>\n",
       "    </tr>\n",
       "    <tr>\n",
       "      <th>1</th>\n",
       "      <td>2018-01-01 00:10:00</td>\n",
       "      <td>453.769196</td>\n",
       "      <td>5.672167</td>\n",
       "      <td>519.917511</td>\n",
       "      <td>268.641113</td>\n",
       "    </tr>\n",
       "    <tr>\n",
       "      <th>2</th>\n",
       "      <td>2018-01-01 00:20:00</td>\n",
       "      <td>306.376587</td>\n",
       "      <td>5.216037</td>\n",
       "      <td>390.900016</td>\n",
       "      <td>272.564789</td>\n",
       "    </tr>\n",
       "    <tr>\n",
       "      <th>3</th>\n",
       "      <td>2018-01-01 00:30:00</td>\n",
       "      <td>419.645905</td>\n",
       "      <td>5.659674</td>\n",
       "      <td>516.127569</td>\n",
       "      <td>271.258087</td>\n",
       "    </tr>\n",
       "    <tr>\n",
       "      <th>4</th>\n",
       "      <td>2018-01-01 00:40:00</td>\n",
       "      <td>380.650696</td>\n",
       "      <td>5.577941</td>\n",
       "      <td>491.702972</td>\n",
       "      <td>265.674286</td>\n",
       "    </tr>\n",
       "  </tbody>\n",
       "</table>\n",
       "</div>"
      ],
      "text/plain": [
       "            Date/Time  LV ActivePower (kW)  Wind Speed (m/s)  \\\n",
       "0 2018-01-01 00:00:00           380.047791          5.311336   \n",
       "1 2018-01-01 00:10:00           453.769196          5.672167   \n",
       "2 2018-01-01 00:20:00           306.376587          5.216037   \n",
       "3 2018-01-01 00:30:00           419.645905          5.659674   \n",
       "4 2018-01-01 00:40:00           380.650696          5.577941   \n",
       "\n",
       "   Theoretical_Power_Curve (KWh)  Wind Direction (°)  \n",
       "0                     416.328908          259.994904  \n",
       "1                     519.917511          268.641113  \n",
       "2                     390.900016          272.564789  \n",
       "3                     516.127569          271.258087  \n",
       "4                     491.702972          265.674286  "
      ]
     },
     "execution_count": 5,
     "metadata": {},
     "output_type": "execute_result"
    }
   ],
   "source": [
    "df.head()"
   ]
  },
  {
   "cell_type": "code",
   "execution_count": 6,
   "id": "b542e664",
   "metadata": {},
   "outputs": [
    {
     "name": "stdout",
     "output_type": "stream",
     "text": [
      "+-------------------+-------------------+----------------+-----------------------------+------------------+\n",
      "|          Date/Time|LV ActivePower (kW)|Wind Speed (m/s)|Theoretical_Power_Curve (KWh)|Wind Direction (°)|\n",
      "+-------------------+-------------------+----------------+-----------------------------+------------------+\n",
      "|2018-01-01 00:00:00|   380.047790527343|5.31133604049682|             416.328907824861|  259.994903564453|\n",
      "|2018-01-01 00:10:00|    453.76919555664|5.67216682434082|             519.917511061494|   268.64111328125|\n",
      "|2018-01-01 00:20:00|   306.376586914062|5.21603679656982|             390.900015810951|  272.564788818359|\n",
      "|2018-01-01 00:30:00|   419.645904541015|5.65967416763305|             516.127568975674|  271.258087158203|\n",
      "|2018-01-01 00:40:00|   380.650695800781|5.57794094085693|             491.702971953588|  265.674285888671|\n",
      "+-------------------+-------------------+----------------+-----------------------------+------------------+\n",
      "only showing top 5 rows\n",
      "\n"
     ]
    }
   ],
   "source": [
    "spark_df.show(5)"
   ]
  },
  {
   "cell_type": "markdown",
   "id": "7d33a276",
   "metadata": {},
   "source": [
    "## Resampling time series"
   ]
  },
  {
   "cell_type": "markdown",
   "id": "1c290fce",
   "metadata": {},
   "source": [
    "**Note:** Renaming the columns to improve the productivity while writing code."
   ]
  },
  {
   "cell_type": "code",
   "execution_count": 7,
   "id": "4559c2de",
   "metadata": {},
   "outputs": [],
   "source": [
    "df = df.rename(columns={\n",
    "    \"Date/Time\": \"timestamp\",\n",
    "    \"LV ActivePower (kW)\": \"active_pwr\",\n",
    "    \"Wind Speed (m/s)\": \"wind_speed\",\n",
    "    \"Theoretical_Power_Curve (KWh)\": \"theoretical_pwr\",\n",
    "    \"Wind Direction (°)\": \"wind_dir\"\n",
    "})\n",
    "\n",
    "\n",
    "spark_df = spark_df.withColumnRenamed(\"Date/Time\", \"timestamp\") \\\n",
    ".withColumnRenamed(\"LV ActivePower (kW)\", \"active_pwr\") \\\n",
    ".withColumnRenamed(\"Wind Speed (m/s)\", \"wind_speed\") \\\n",
    ".withColumnRenamed(\"Theoretical_Power_Curve (KWh)\", \"theoretical_pwr\") \\\n",
    ".withColumnRenamed(\"Wind Direction (°)\", \"wind_dir\")"
   ]
  },
  {
   "cell_type": "code",
   "execution_count": 8,
   "id": "f3e983d1",
   "metadata": {},
   "outputs": [
    {
     "data": {
      "text/html": [
       "<div>\n",
       "<style scoped>\n",
       "    .dataframe tbody tr th:only-of-type {\n",
       "        vertical-align: middle;\n",
       "    }\n",
       "\n",
       "    .dataframe tbody tr th {\n",
       "        vertical-align: top;\n",
       "    }\n",
       "\n",
       "    .dataframe thead th {\n",
       "        text-align: right;\n",
       "    }\n",
       "</style>\n",
       "<table border=\"1\" class=\"dataframe\">\n",
       "  <thead>\n",
       "    <tr style=\"text-align: right;\">\n",
       "      <th></th>\n",
       "      <th>timestamp</th>\n",
       "      <th>active_pwr</th>\n",
       "      <th>wind_speed</th>\n",
       "      <th>theoretical_pwr</th>\n",
       "      <th>wind_dir</th>\n",
       "    </tr>\n",
       "  </thead>\n",
       "  <tbody>\n",
       "    <tr>\n",
       "      <th>0</th>\n",
       "      <td>2018-01-01 00:00:00</td>\n",
       "      <td>380.047791</td>\n",
       "      <td>5.311336</td>\n",
       "      <td>416.328908</td>\n",
       "      <td>259.994904</td>\n",
       "    </tr>\n",
       "    <tr>\n",
       "      <th>1</th>\n",
       "      <td>2018-01-01 00:10:00</td>\n",
       "      <td>453.769196</td>\n",
       "      <td>5.672167</td>\n",
       "      <td>519.917511</td>\n",
       "      <td>268.641113</td>\n",
       "    </tr>\n",
       "    <tr>\n",
       "      <th>2</th>\n",
       "      <td>2018-01-01 00:20:00</td>\n",
       "      <td>306.376587</td>\n",
       "      <td>5.216037</td>\n",
       "      <td>390.900016</td>\n",
       "      <td>272.564789</td>\n",
       "    </tr>\n",
       "    <tr>\n",
       "      <th>3</th>\n",
       "      <td>2018-01-01 00:30:00</td>\n",
       "      <td>419.645905</td>\n",
       "      <td>5.659674</td>\n",
       "      <td>516.127569</td>\n",
       "      <td>271.258087</td>\n",
       "    </tr>\n",
       "    <tr>\n",
       "      <th>4</th>\n",
       "      <td>2018-01-01 00:40:00</td>\n",
       "      <td>380.650696</td>\n",
       "      <td>5.577941</td>\n",
       "      <td>491.702972</td>\n",
       "      <td>265.674286</td>\n",
       "    </tr>\n",
       "  </tbody>\n",
       "</table>\n",
       "</div>"
      ],
      "text/plain": [
       "            timestamp  active_pwr  wind_speed  theoretical_pwr    wind_dir\n",
       "0 2018-01-01 00:00:00  380.047791    5.311336       416.328908  259.994904\n",
       "1 2018-01-01 00:10:00  453.769196    5.672167       519.917511  268.641113\n",
       "2 2018-01-01 00:20:00  306.376587    5.216037       390.900016  272.564789\n",
       "3 2018-01-01 00:30:00  419.645905    5.659674       516.127569  271.258087\n",
       "4 2018-01-01 00:40:00  380.650696    5.577941       491.702972  265.674286"
      ]
     },
     "execution_count": 8,
     "metadata": {},
     "output_type": "execute_result"
    }
   ],
   "source": [
    "df.head()"
   ]
  },
  {
   "cell_type": "code",
   "execution_count": 9,
   "id": "5a70cf53",
   "metadata": {},
   "outputs": [
    {
     "name": "stdout",
     "output_type": "stream",
     "text": [
      "+-------------------+----------------+----------------+----------------+----------------+\n",
      "|          timestamp|      active_pwr|      wind_speed| theoretical_pwr|        wind_dir|\n",
      "+-------------------+----------------+----------------+----------------+----------------+\n",
      "|2018-01-01 00:00:00|380.047790527343|5.31133604049682|416.328907824861|259.994903564453|\n",
      "|2018-01-01 00:10:00| 453.76919555664|5.67216682434082|519.917511061494| 268.64111328125|\n",
      "|2018-01-01 00:20:00|306.376586914062|5.21603679656982|390.900015810951|272.564788818359|\n",
      "|2018-01-01 00:30:00|419.645904541015|5.65967416763305|516.127568975674|271.258087158203|\n",
      "|2018-01-01 00:40:00|380.650695800781|5.57794094085693|491.702971953588|265.674285888671|\n",
      "+-------------------+----------------+----------------+----------------+----------------+\n",
      "only showing top 5 rows\n",
      "\n"
     ]
    }
   ],
   "source": [
    "spark_df.show(5)"
   ]
  },
  {
   "cell_type": "markdown",
   "id": "e17a2974",
   "metadata": {},
   "source": [
    "**Note:** In the following cells I'll be resampling the 10 min data to 1 hour"
   ]
  },
  {
   "cell_type": "markdown",
   "id": "4c2f9c08",
   "metadata": {},
   "source": [
    "### Resampling in pandas"
   ]
  },
  {
   "cell_type": "code",
   "execution_count": 10,
   "id": "e817d906",
   "metadata": {},
   "outputs": [],
   "source": [
    "df_to_resample = df.set_index(\"timestamp\")\n",
    "\n",
    "df_resample = df_to_resample.resample(\"1H\").agg(\n",
    "    {\n",
    "        \"active_pwr\": \"sum\",\n",
    "        \"wind_speed\": \"mean\",\n",
    "        \"theoretical_pwr\": \"sum\",\n",
    "        \"wind_dir\": \"mean\"\n",
    "    }\n",
    ")"
   ]
  },
  {
   "cell_type": "markdown",
   "id": "7a48881c",
   "metadata": {},
   "source": [
    "### Resampling in PySpark"
   ]
  },
  {
   "cell_type": "code",
   "execution_count": 14,
   "id": "b59d5f28",
   "metadata": {},
   "outputs": [],
   "source": [
    "agg_by_cols = [\n",
    "    F.sum(\"active_pwr\").alias(\"active_pwr\"), \n",
    "    F.mean(\"wind_speed\").alias(\"wind_speed\"),\n",
    "    F.sum(\"theoretical_pwr\").alias(\"theoretical_pwr\"),\n",
    "    F.mean(\"wind_dir\").alias(\"wind_dir\")\n",
    "]\n",
    "\n",
    "\n",
    "downsample_window = F.window(\"timestamp\", \"60 minutes\")\n",
    "\n",
    "spark_resampled_df = spark_df.groupBy(downsample_window).agg(*agg_by_cols)\n",
    "spark_resampled_df = spark_resampled_df.select(\n",
    "    \"window.start\",\n",
    "    \"window.end\",\n",
    "    \"active_pwr\", \n",
    "    \"wind_speed\", \n",
    "    \"theoretical_pwr\",\n",
    "    \"wind_dir\"\n",
    ")\n",
    "\n",
    "spark_resampled_df = spark_resampled_df.groupBy(\"window.end\").agg(F.si,)\n",
    "\n",
    "# spark_resampled_df = spark_resampled_df.sort(\"window.start\")"
   ]
  },
  {
   "cell_type": "code",
   "execution_count": 12,
   "id": "8cbb0e40",
   "metadata": {},
   "outputs": [
    {
     "data": {
      "text/html": [
       "<div>\n",
       "<style scoped>\n",
       "    .dataframe tbody tr th:only-of-type {\n",
       "        vertical-align: middle;\n",
       "    }\n",
       "\n",
       "    .dataframe tbody tr th {\n",
       "        vertical-align: top;\n",
       "    }\n",
       "\n",
       "    .dataframe thead th {\n",
       "        text-align: right;\n",
       "    }\n",
       "</style>\n",
       "<table border=\"1\" class=\"dataframe\">\n",
       "  <thead>\n",
       "    <tr style=\"text-align: right;\">\n",
       "      <th></th>\n",
       "      <th>active_pwr</th>\n",
       "      <th>wind_speed</th>\n",
       "      <th>theoretical_pwr</th>\n",
       "      <th>wind_dir</th>\n",
       "    </tr>\n",
       "    <tr>\n",
       "      <th>timestamp</th>\n",
       "      <th></th>\n",
       "      <th></th>\n",
       "      <th></th>\n",
       "      <th></th>\n",
       "    </tr>\n",
       "  </thead>\n",
       "  <tbody>\n",
       "    <tr>\n",
       "      <th>2018-01-01 00:00:00</th>\n",
       "      <td>2342.882172</td>\n",
       "      <td>5.506868</td>\n",
       "      <td>2834.413361</td>\n",
       "      <td>267.118632</td>\n",
       "    </tr>\n",
       "    <tr>\n",
       "      <th>2018-01-01 01:00:00</th>\n",
       "      <td>2763.222748</td>\n",
       "      <td>5.644205</td>\n",
       "      <td>3080.510451</td>\n",
       "      <td>258.945546</td>\n",
       "    </tr>\n",
       "    <tr>\n",
       "      <th>2018-01-01 02:00:00</th>\n",
       "      <td>4401.932251</td>\n",
       "      <td>6.452037</td>\n",
       "      <td>4730.407860</td>\n",
       "      <td>268.397466</td>\n",
       "    </tr>\n",
       "    <tr>\n",
       "      <th>2018-01-01 03:00:00</th>\n",
       "      <td>5456.172485</td>\n",
       "      <td>6.811455</td>\n",
       "      <td>5692.760077</td>\n",
       "      <td>256.014765</td>\n",
       "    </tr>\n",
       "    <tr>\n",
       "      <th>2018-01-01 04:00:00</th>\n",
       "      <td>8361.109131</td>\n",
       "      <td>7.748749</td>\n",
       "      <td>8438.350772</td>\n",
       "      <td>247.652468</td>\n",
       "    </tr>\n",
       "  </tbody>\n",
       "</table>\n",
       "</div>"
      ],
      "text/plain": [
       "                      active_pwr  wind_speed  theoretical_pwr    wind_dir\n",
       "timestamp                                                                \n",
       "2018-01-01 00:00:00  2342.882172    5.506868      2834.413361  267.118632\n",
       "2018-01-01 01:00:00  2763.222748    5.644205      3080.510451  258.945546\n",
       "2018-01-01 02:00:00  4401.932251    6.452037      4730.407860  268.397466\n",
       "2018-01-01 03:00:00  5456.172485    6.811455      5692.760077  256.014765\n",
       "2018-01-01 04:00:00  8361.109131    7.748749      8438.350772  247.652468"
      ]
     },
     "execution_count": 12,
     "metadata": {},
     "output_type": "execute_result"
    }
   ],
   "source": [
    "df_resample.head()"
   ]
  },
  {
   "cell_type": "code",
   "execution_count": 17,
   "id": "c46c64e4",
   "metadata": {},
   "outputs": [
    {
     "data": {
      "text/plain": [
       "5.484999999999999"
      ]
     },
     "execution_count": 17,
     "metadata": {},
     "output_type": "execute_result"
    }
   ],
   "source": [
    "(5.39 + 5.58)/2"
   ]
  },
  {
   "cell_type": "code",
   "execution_count": 15,
   "id": "a7dcfecb",
   "metadata": {},
   "outputs": [
    {
     "name": "stderr",
     "output_type": "stream",
     "text": [
      "[Stage 7:=====================================================> (195 + 5) / 200]\r"
     ]
    },
    {
     "name": "stdout",
     "output_type": "stream",
     "text": [
      "+-------------------+-------------------+------------------+------------------+------------------+------------------+\n",
      "|              start|                end|        active_pwr|        wind_speed|   theoretical_pwr|          wind_dir|\n",
      "+-------------------+-------------------+------------------+------------------+------------------+------------------+\n",
      "|2017-12-31 23:30:00|2018-01-01 00:30:00| 1140.193572998045| 5.399846553802487|1327.1464346973062|  267.066935221354|\n",
      "|2018-01-01 00:30:00|2018-01-01 01:30:00| 2501.187713623045|5.5875589847564635| 2973.215120207555| 263.1841303507484|\n",
      "|2018-01-01 01:30:00|2018-01-01 02:30:00|3585.2677001953098| 6.072347640991203|3940.7955495151764|263.96766408284464|\n",
      "|2018-01-01 02:30:00|2018-01-01 03:30:00|4528.1463012695285| 6.422053337097162| 4659.883346300228| 262.8839492797848|\n",
      "|2018-01-01 03:30:00|2018-01-01 04:30:00| 8064.645446777327| 7.725385665893551| 8355.305390733096|253.04043324788367|\n",
      "|2018-01-01 04:30:00|2018-01-01 05:30:00|  6909.41101074216|7.2062968413035025| 6708.624214084218|242.00861612955683|\n",
      "|2018-01-01 05:30:00|2018-01-01 06:30:00|  6886.60510253904| 7.304630597432449|   6959.5664429986|246.29938507080018|\n",
      "|2018-01-01 06:30:00|2018-01-01 07:30:00| 6143.223083496077| 7.094451506932572| 6371.230789125247|239.61234792073515|\n",
      "|2018-01-01 07:30:00|2018-01-01 08:30:00| 4228.564178466794| 6.123455762863155|  4080.55588137994| 235.3606338500972|\n",
      "|2018-01-01 08:30:00|2018-01-01 09:30:00|3856.7937927246066| 5.992577632268265|3797.1271530972363| 211.0581792195633|\n",
      "|2018-01-01 09:30:00|2018-01-01 10:30:00|  4388.77490234375| 6.270309368769319| 4330.406138060567| 228.9166183471675|\n",
      "|2018-01-01 10:30:00|2018-01-01 11:30:00|1534.4423828124968| 4.639685352643325| 1573.284501962957|230.43001810709583|\n",
      "|2018-01-01 11:30:00|2018-01-01 12:30:00| 930.0958557128893|  4.12525335947672|  917.166745762185|  228.308497111002|\n",
      "|2018-01-01 12:30:00|2018-01-01 13:30:00| 1506.461559295652| 4.517746170361832|1489.9056057256344| 231.9206161499018|\n",
      "|2018-01-01 13:30:00|2018-01-01 14:30:00| 5293.420104980464| 6.803209463755285| 5805.706023865891|238.09093221028596|\n",
      "|2018-01-01 14:30:00|2018-01-01 15:30:00| 10094.07092285154|  8.51350386937459|11026.142615545108|  235.470799763997|\n",
      "|2018-01-01 15:30:00|2018-01-01 16:30:00|15389.034179687478|10.181251525878883|17257.636351356898|226.34700012206986|\n",
      "|2018-01-01 16:30:00|2018-01-01 17:30:00|12919.423706054658|  9.26153723398844| 13856.71753756877|225.38044993082633|\n",
      "|2018-01-01 17:30:00|2018-01-01 18:30:00|  12318.0109863281|  9.25378306706744| 13838.18426216771|213.20348358154249|\n",
      "|2018-01-01 18:30:00|2018-01-01 19:30:00| 16624.36621093749|10.832803567250517| 19095.29424728914| 204.7625808715815|\n",
      "+-------------------+-------------------+------------------+------------------+------------------+------------------+\n",
      "only showing top 20 rows\n",
      "\n"
     ]
    },
    {
     "name": "stderr",
     "output_type": "stream",
     "text": [
      "\r",
      "                                                                                \r"
     ]
    }
   ],
   "source": [
    "spark_resampled_df.show()"
   ]
  }
 ],
 "metadata": {
  "kernelspec": {
   "display_name": "Python 3 (ipykernel)",
   "language": "python",
   "name": "python3"
  },
  "language_info": {
   "codemirror_mode": {
    "name": "ipython",
    "version": 3
   },
   "file_extension": ".py",
   "mimetype": "text/x-python",
   "name": "python",
   "nbconvert_exporter": "python",
   "pygments_lexer": "ipython3",
   "version": "3.9.5"
  }
 },
 "nbformat": 4,
 "nbformat_minor": 5
}
