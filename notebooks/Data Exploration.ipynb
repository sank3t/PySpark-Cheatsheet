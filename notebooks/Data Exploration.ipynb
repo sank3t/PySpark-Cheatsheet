{
 "cells": [
  {
   "cell_type": "code",
   "execution_count": 1,
   "metadata": {},
   "outputs": [],
   "source": [
    "from datetime import datetime\n",
    "import pandas as pd\n",
    "\n",
    "from pyspark.sql import SparkSession\n",
    "from pyspark.sql import functions as F"
   ]
  },
  {
   "cell_type": "code",
   "execution_count": 2,
   "metadata": {},
   "outputs": [
    {
     "name": "stdout",
     "output_type": "stream",
     "text": [
      "T1.csv\r\n"
     ]
    }
   ],
   "source": [
    "! ls ../data/"
   ]
  },
  {
   "cell_type": "code",
   "execution_count": 3,
   "metadata": {},
   "outputs": [],
   "source": [
    "sc = SparkSession.builder.appName(\"Cheatsheet\").getOrCreate()"
   ]
  },
  {
   "cell_type": "code",
   "execution_count": 4,
   "metadata": {},
   "outputs": [],
   "source": [
    "custom_date_parser = lambda x: datetime.strptime(x, \"%d %m %Y %H:%M\")\n",
    "\n",
    "# Reading CSV in pandas\n",
    "df = pd.read_csv(\"../data/T1.csv\",\n",
    "                 parse_dates=[\"Date/Time\"],\n",
    "                 date_parser=custom_date_parser\n",
    "                )\n",
    "\n",
    "# Reading CSV in PySpark\n",
    "spark_df = sc.read.options(\n",
    "    header=True,\n",
    "    inferSchema=True,\n",
    "    timestampFormat=\"dd MM y HH:mm\"\n",
    ").csv(\"../data/T1.csv\")"
   ]
  },
  {
   "cell_type": "code",
   "execution_count": 5,
   "metadata": {},
   "outputs": [
    {
     "data": {
      "text/html": [
       "<div>\n",
       "<style scoped>\n",
       "    .dataframe tbody tr th:only-of-type {\n",
       "        vertical-align: middle;\n",
       "    }\n",
       "\n",
       "    .dataframe tbody tr th {\n",
       "        vertical-align: top;\n",
       "    }\n",
       "\n",
       "    .dataframe thead th {\n",
       "        text-align: right;\n",
       "    }\n",
       "</style>\n",
       "<table border=\"1\" class=\"dataframe\">\n",
       "  <thead>\n",
       "    <tr style=\"text-align: right;\">\n",
       "      <th></th>\n",
       "      <th>Date/Time</th>\n",
       "      <th>LV ActivePower (kW)</th>\n",
       "      <th>Wind Speed (m/s)</th>\n",
       "      <th>Theoretical_Power_Curve (KWh)</th>\n",
       "      <th>Wind Direction (°)</th>\n",
       "    </tr>\n",
       "  </thead>\n",
       "  <tbody>\n",
       "    <tr>\n",
       "      <th>0</th>\n",
       "      <td>2018-01-01 00:00:00</td>\n",
       "      <td>380.047791</td>\n",
       "      <td>5.311336</td>\n",
       "      <td>416.328908</td>\n",
       "      <td>259.994904</td>\n",
       "    </tr>\n",
       "    <tr>\n",
       "      <th>1</th>\n",
       "      <td>2018-01-01 00:10:00</td>\n",
       "      <td>453.769196</td>\n",
       "      <td>5.672167</td>\n",
       "      <td>519.917511</td>\n",
       "      <td>268.641113</td>\n",
       "    </tr>\n",
       "    <tr>\n",
       "      <th>2</th>\n",
       "      <td>2018-01-01 00:20:00</td>\n",
       "      <td>306.376587</td>\n",
       "      <td>5.216037</td>\n",
       "      <td>390.900016</td>\n",
       "      <td>272.564789</td>\n",
       "    </tr>\n",
       "    <tr>\n",
       "      <th>3</th>\n",
       "      <td>2018-01-01 00:30:00</td>\n",
       "      <td>419.645905</td>\n",
       "      <td>5.659674</td>\n",
       "      <td>516.127569</td>\n",
       "      <td>271.258087</td>\n",
       "    </tr>\n",
       "    <tr>\n",
       "      <th>4</th>\n",
       "      <td>2018-01-01 00:40:00</td>\n",
       "      <td>380.650696</td>\n",
       "      <td>5.577941</td>\n",
       "      <td>491.702972</td>\n",
       "      <td>265.674286</td>\n",
       "    </tr>\n",
       "  </tbody>\n",
       "</table>\n",
       "</div>"
      ],
      "text/plain": [
       "            Date/Time  LV ActivePower (kW)  Wind Speed (m/s)  \\\n",
       "0 2018-01-01 00:00:00           380.047791          5.311336   \n",
       "1 2018-01-01 00:10:00           453.769196          5.672167   \n",
       "2 2018-01-01 00:20:00           306.376587          5.216037   \n",
       "3 2018-01-01 00:30:00           419.645905          5.659674   \n",
       "4 2018-01-01 00:40:00           380.650696          5.577941   \n",
       "\n",
       "   Theoretical_Power_Curve (KWh)  Wind Direction (°)  \n",
       "0                     416.328908          259.994904  \n",
       "1                     519.917511          268.641113  \n",
       "2                     390.900016          272.564789  \n",
       "3                     516.127569          271.258087  \n",
       "4                     491.702972          265.674286  "
      ]
     },
     "execution_count": 5,
     "metadata": {},
     "output_type": "execute_result"
    }
   ],
   "source": [
    "df.head()"
   ]
  },
  {
   "cell_type": "code",
   "execution_count": 6,
   "metadata": {},
   "outputs": [
    {
     "name": "stdout",
     "output_type": "stream",
     "text": [
      "+-------------------+-------------------+----------------+-----------------------------+------------------+\n",
      "|          Date/Time|LV ActivePower (kW)|Wind Speed (m/s)|Theoretical_Power_Curve (KWh)|Wind Direction (°)|\n",
      "+-------------------+-------------------+----------------+-----------------------------+------------------+\n",
      "|2018-01-01 00:00:00|   380.047790527343|5.31133604049682|             416.328907824861|  259.994903564453|\n",
      "|2018-01-01 00:10:00|    453.76919555664|5.67216682434082|             519.917511061494|   268.64111328125|\n",
      "|2018-01-01 00:20:00|   306.376586914062|5.21603679656982|             390.900015810951|  272.564788818359|\n",
      "|2018-01-01 00:30:00|   419.645904541015|5.65967416763305|             516.127568975674|  271.258087158203|\n",
      "|2018-01-01 00:40:00|   380.650695800781|5.57794094085693|             491.702971953588|  265.674285888671|\n",
      "+-------------------+-------------------+----------------+-----------------------------+------------------+\n",
      "only showing top 5 rows\n",
      "\n"
     ]
    }
   ],
   "source": [
    "spark_df.show(5)"
   ]
  },
  {
   "cell_type": "markdown",
   "metadata": {},
   "source": [
    "## Resampling time series"
   ]
  },
  {
   "cell_type": "markdown",
   "metadata": {},
   "source": [
    "**Note:** Renaming the columns to improve the productivity while writing code."
   ]
  },
  {
   "cell_type": "code",
   "execution_count": 7,
   "metadata": {},
   "outputs": [],
   "source": [
    "col_rename_dict = {\n",
    "    \"Date/Time\": \"timestamp\",\n",
    "    \"LV ActivePower (kW)\": \"active_pwr\",\n",
    "    \"Wind Speed (m/s)\": \"wind_speed\",\n",
    "    \"Theoretical_Power_Curve (KWh)\": \"theoretical_pwr\",\n",
    "    \"Wind Direction (°)\": \"wind_dir\"\n",
    "}\n",
    "\n",
    "df = df.rename(columns=col_rename_dict)\n",
    "\n",
    "for col_name, updated_name in col_rename_dict.items():\n",
    "    spark_df = spark_df.withColumnRenamed(col_name, updated_name)"
   ]
  },
  {
   "cell_type": "markdown",
   "metadata": {},
   "source": [
    "**Note:** In the following cells I'll be resampling the 10 min data to 1 hour"
   ]
  },
  {
   "cell_type": "markdown",
   "metadata": {},
   "source": [
    "### Resampling in pandas"
   ]
  },
  {
   "cell_type": "code",
   "execution_count": 8,
   "metadata": {},
   "outputs": [],
   "source": [
    "df_to_resample = df.set_index(\"timestamp\")\n",
    "\n",
    "df_resample = df_to_resample.resample(\"1H\").agg(\n",
    "    {\n",
    "        \"active_pwr\": \"sum\",\n",
    "        \"wind_speed\": \"mean\",\n",
    "        \"theoretical_pwr\": \"sum\",\n",
    "        \"wind_dir\": \"mean\"\n",
    "    }\n",
    ")"
   ]
  },
  {
   "cell_type": "markdown",
   "metadata": {},
   "source": [
    "### Resampling in PySpark"
   ]
  },
  {
   "cell_type": "code",
   "execution_count": 9,
   "metadata": {},
   "outputs": [],
   "source": [
    "agg_by_cols = [\n",
    "    F.sum(\"active_pwr\").alias(\"active_pwr\"),\n",
    "    F.mean(\"wind_speed\").alias(\"wind_speed\"),\n",
    "    F.sum(\"theoretical_pwr\").alias(\"theoretical_pwr\"),\n",
    "    F.mean(\"wind_dir\").alias(\"wind_dir\")\n",
    "]\n",
    "\n",
    "downsample_window = F.window(\"timestamp\", \"1 hour\", startTime=\"30 minutes\")\n",
    "\n",
    "spark_resampled_df = spark_df.groupBy(downsample_window).agg(*agg_by_cols)\n",
    "spark_resampled_df = spark_resampled_df.select(\n",
    "    \"window.start\",\n",
    "    F.round(F.col(\"active_pwr\"), 6).alias(\"active_pwr\"),\n",
    "    F.round(F.col(\"wind_speed\"), 6).alias(\"wind_speed\"),\n",
    "    F.round(F.col(\"theoretical_pwr\"), 6).alias(\"theoretical_pwr\"),\n",
    "    F.round(F.col(\"wind_dir\"), 6).alias(\"wind_dir\")\n",
    ")\n",
    "\n",
    "spark_resampled_df = spark_resampled_df.sort(\"start\")"
   ]
  },
  {
   "cell_type": "code",
   "execution_count": 10,
   "metadata": {},
   "outputs": [
    {
     "data": {
      "text/html": [
       "<div>\n",
       "<style scoped>\n",
       "    .dataframe tbody tr th:only-of-type {\n",
       "        vertical-align: middle;\n",
       "    }\n",
       "\n",
       "    .dataframe tbody tr th {\n",
       "        vertical-align: top;\n",
       "    }\n",
       "\n",
       "    .dataframe thead th {\n",
       "        text-align: right;\n",
       "    }\n",
       "</style>\n",
       "<table border=\"1\" class=\"dataframe\">\n",
       "  <thead>\n",
       "    <tr style=\"text-align: right;\">\n",
       "      <th></th>\n",
       "      <th>active_pwr</th>\n",
       "      <th>wind_speed</th>\n",
       "      <th>theoretical_pwr</th>\n",
       "      <th>wind_dir</th>\n",
       "    </tr>\n",
       "    <tr>\n",
       "      <th>timestamp</th>\n",
       "      <th></th>\n",
       "      <th></th>\n",
       "      <th></th>\n",
       "      <th></th>\n",
       "    </tr>\n",
       "  </thead>\n",
       "  <tbody>\n",
       "    <tr>\n",
       "      <th>2018-01-01 00:00:00</th>\n",
       "      <td>2342.882172</td>\n",
       "      <td>5.506868</td>\n",
       "      <td>2834.413361</td>\n",
       "      <td>267.118632</td>\n",
       "    </tr>\n",
       "    <tr>\n",
       "      <th>2018-01-01 01:00:00</th>\n",
       "      <td>2763.222748</td>\n",
       "      <td>5.644205</td>\n",
       "      <td>3080.510451</td>\n",
       "      <td>258.945546</td>\n",
       "    </tr>\n",
       "    <tr>\n",
       "      <th>2018-01-01 02:00:00</th>\n",
       "      <td>4401.932251</td>\n",
       "      <td>6.452037</td>\n",
       "      <td>4730.407860</td>\n",
       "      <td>268.397466</td>\n",
       "    </tr>\n",
       "    <tr>\n",
       "      <th>2018-01-01 03:00:00</th>\n",
       "      <td>5456.172485</td>\n",
       "      <td>6.811455</td>\n",
       "      <td>5692.760077</td>\n",
       "      <td>256.014765</td>\n",
       "    </tr>\n",
       "    <tr>\n",
       "      <th>2018-01-01 04:00:00</th>\n",
       "      <td>8361.109131</td>\n",
       "      <td>7.748749</td>\n",
       "      <td>8438.350772</td>\n",
       "      <td>247.652468</td>\n",
       "    </tr>\n",
       "  </tbody>\n",
       "</table>\n",
       "</div>"
      ],
      "text/plain": [
       "                      active_pwr  wind_speed  theoretical_pwr    wind_dir\n",
       "timestamp                                                                \n",
       "2018-01-01 00:00:00  2342.882172    5.506868      2834.413361  267.118632\n",
       "2018-01-01 01:00:00  2763.222748    5.644205      3080.510451  258.945546\n",
       "2018-01-01 02:00:00  4401.932251    6.452037      4730.407860  268.397466\n",
       "2018-01-01 03:00:00  5456.172485    6.811455      5692.760077  256.014765\n",
       "2018-01-01 04:00:00  8361.109131    7.748749      8438.350772  247.652468"
      ]
     },
     "execution_count": 10,
     "metadata": {},
     "output_type": "execute_result"
    }
   ],
   "source": [
    "df_resample.head()"
   ]
  },
  {
   "cell_type": "code",
   "execution_count": 11,
   "metadata": {},
   "outputs": [
    {
     "name": "stdout",
     "output_type": "stream",
     "text": [
      "+-------------------+-----------+----------+---------------+----------+\n",
      "|              start| active_pwr|wind_speed|theoretical_pwr|  wind_dir|\n",
      "+-------------------+-----------+----------+---------------+----------+\n",
      "|2018-01-01 00:00:00|2342.882172|  5.506868|    2834.413361|267.118632|\n",
      "|2018-01-01 01:00:00|2763.222748|  5.644205|    3080.510451|258.945546|\n",
      "|2018-01-01 02:00:00|4401.932251|  6.452037|     4730.40786|268.397466|\n",
      "|2018-01-01 03:00:00|5456.172485|  6.811455|    5692.760077|256.014765|\n",
      "|2018-01-01 04:00:00|8361.109131|  7.748749|    8438.350772|247.652468|\n",
      "+-------------------+-----------+----------+---------------+----------+\n",
      "only showing top 5 rows\n",
      "\n"
     ]
    }
   ],
   "source": [
    "spark_resampled_df.show(5)"
   ]
  },
  {
   "cell_type": "markdown",
   "metadata": {},
   "source": [
    "### Nerdy Tip"
   ]
  },
  {
   "cell_type": "markdown",
   "metadata": {},
   "source": [
    "* The pre-requisite for resampling in **pandas** is that it requires the index to be of timestamp\n",
    "\n",
    "\n",
    "* While in **PySpark** resampling requires a window to be created using the `window()` function. The `window()` requires the column to be of `TimestampType()`."
   ]
  }
 ],
 "metadata": {
  "kernelspec": {
   "display_name": "Python 3",
   "language": "python",
   "name": "python3"
  },
  "language_info": {
   "codemirror_mode": {
    "name": "ipython",
    "version": 3
   },
   "file_extension": ".py",
   "mimetype": "text/x-python",
   "name": "python",
   "nbconvert_exporter": "python",
   "pygments_lexer": "ipython3",
   "version": "3.8.10"
  }
 },
 "nbformat": 4,
 "nbformat_minor": 5
}
